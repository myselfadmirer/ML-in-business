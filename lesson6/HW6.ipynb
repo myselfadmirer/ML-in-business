{
 "cells": [
  {
   "cell_type": "code",
   "execution_count": 1,
   "metadata": {},
   "outputs": [],
   "source": [
    "import pandas as pd\n",
    "import numpy as np\n",
    "from matplotlib import pyplot as plt\n",
    "\n",
    "from sklearn.model_selection import train_test_split\n",
    "from sklearn.metrics import recall_score, precision_score, roc_auc_score, accuracy_score, f1_score\n",
    "\n",
    "import xgboost as xgb\n",
    "\n",
    "import warnings\n",
    "warnings.filterwarnings('ignore')"
   ]
  },
  {
   "cell_type": "markdown",
   "metadata": {},
   "source": [
    "#### 1. Взять любой набор данных для бинарной классификации (можно скачать один из модельных с https://archive.ics.uci.edu/ml/datasets.php)"
   ]
  },
  {
   "cell_type": "markdown",
   "metadata": {},
   "source": [
    "##### Загрузим Electrical Grid Stability Simulated Data Data Set (https://archive.ics.uci.edu/ml/datasets/Electrical+Grid+Stability+Simulated+Data+)"
   ]
  },
  {
   "cell_type": "code",
   "execution_count": 2,
   "metadata": {},
   "outputs": [
    {
     "data": {
      "text/html": [
       "<div>\n",
       "<style scoped>\n",
       "    .dataframe tbody tr th:only-of-type {\n",
       "        vertical-align: middle;\n",
       "    }\n",
       "\n",
       "    .dataframe tbody tr th {\n",
       "        vertical-align: top;\n",
       "    }\n",
       "\n",
       "    .dataframe thead th {\n",
       "        text-align: right;\n",
       "    }\n",
       "</style>\n",
       "<table border=\"1\" class=\"dataframe\">\n",
       "  <thead>\n",
       "    <tr style=\"text-align: right;\">\n",
       "      <th></th>\n",
       "      <th>tau1</th>\n",
       "      <th>tau2</th>\n",
       "      <th>tau3</th>\n",
       "      <th>tau4</th>\n",
       "      <th>p1</th>\n",
       "      <th>p2</th>\n",
       "      <th>p3</th>\n",
       "      <th>p4</th>\n",
       "      <th>g1</th>\n",
       "      <th>g2</th>\n",
       "      <th>g3</th>\n",
       "      <th>g4</th>\n",
       "      <th>stab</th>\n",
       "      <th>stabf</th>\n",
       "    </tr>\n",
       "  </thead>\n",
       "  <tbody>\n",
       "    <tr>\n",
       "      <th>0</th>\n",
       "      <td>2.959060</td>\n",
       "      <td>3.079885</td>\n",
       "      <td>8.381025</td>\n",
       "      <td>9.780754</td>\n",
       "      <td>3.763085</td>\n",
       "      <td>-0.782604</td>\n",
       "      <td>-1.257395</td>\n",
       "      <td>-1.723086</td>\n",
       "      <td>0.650456</td>\n",
       "      <td>0.859578</td>\n",
       "      <td>0.887445</td>\n",
       "      <td>0.958034</td>\n",
       "      <td>0.055347</td>\n",
       "      <td>unstable</td>\n",
       "    </tr>\n",
       "    <tr>\n",
       "      <th>1</th>\n",
       "      <td>9.304097</td>\n",
       "      <td>4.902524</td>\n",
       "      <td>3.047541</td>\n",
       "      <td>1.369357</td>\n",
       "      <td>5.067812</td>\n",
       "      <td>-1.940058</td>\n",
       "      <td>-1.872742</td>\n",
       "      <td>-1.255012</td>\n",
       "      <td>0.413441</td>\n",
       "      <td>0.862414</td>\n",
       "      <td>0.562139</td>\n",
       "      <td>0.781760</td>\n",
       "      <td>-0.005957</td>\n",
       "      <td>stable</td>\n",
       "    </tr>\n",
       "  </tbody>\n",
       "</table>\n",
       "</div>"
      ],
      "text/plain": [
       "       tau1      tau2      tau3      tau4        p1        p2        p3  \\\n",
       "0  2.959060  3.079885  8.381025  9.780754  3.763085 -0.782604 -1.257395   \n",
       "1  9.304097  4.902524  3.047541  1.369357  5.067812 -1.940058 -1.872742   \n",
       "\n",
       "         p4        g1        g2        g3        g4      stab     stabf  \n",
       "0 -1.723086  0.650456  0.859578  0.887445  0.958034  0.055347  unstable  \n",
       "1 -1.255012  0.413441  0.862414  0.562139  0.781760 -0.005957    stable  "
      ]
     },
     "execution_count": 2,
     "metadata": {},
     "output_type": "execute_result"
    }
   ],
   "source": [
    "data = pd.read_csv('Data_for_UCI_named.csv', sep=',')\n",
    "data.head(2)"
   ]
  },
  {
   "cell_type": "code",
   "execution_count": 3,
   "metadata": {},
   "outputs": [
    {
     "data": {
      "text/plain": [
       "unstable    6380\n",
       "stable      3620\n",
       "Name: stabf, dtype: int64"
      ]
     },
     "execution_count": 3,
     "metadata": {},
     "output_type": "execute_result"
    }
   ],
   "source": [
    "data.stabf.value_counts()"
   ]
  },
  {
   "cell_type": "code",
   "execution_count": 4,
   "metadata": {},
   "outputs": [
    {
     "name": "stdout",
     "output_type": "stream",
     "text": [
      "<class 'pandas.core.frame.DataFrame'>\n",
      "RangeIndex: 10000 entries, 0 to 9999\n",
      "Data columns (total 14 columns):\n",
      " #   Column  Non-Null Count  Dtype  \n",
      "---  ------  --------------  -----  \n",
      " 0   tau1    10000 non-null  float64\n",
      " 1   tau2    10000 non-null  float64\n",
      " 2   tau3    10000 non-null  float64\n",
      " 3   tau4    10000 non-null  float64\n",
      " 4   p1      10000 non-null  float64\n",
      " 5   p2      10000 non-null  float64\n",
      " 6   p3      10000 non-null  float64\n",
      " 7   p4      10000 non-null  float64\n",
      " 8   g1      10000 non-null  float64\n",
      " 9   g2      10000 non-null  float64\n",
      " 10  g3      10000 non-null  float64\n",
      " 11  g4      10000 non-null  float64\n",
      " 12  stab    10000 non-null  float64\n",
      " 13  stabf   10000 non-null  object \n",
      "dtypes: float64(13), object(1)\n",
      "memory usage: 1.1+ MB\n"
     ]
    }
   ],
   "source": [
    "data.info()"
   ]
  },
  {
   "cell_type": "markdown",
   "metadata": {},
   "source": [
    "#### 2. Сделать feature engineering"
   ]
  },
  {
   "cell_type": "markdown",
   "metadata": {},
   "source": [
    "#### Заменим у целевого признака значения на 0 и 1"
   ]
  },
  {
   "cell_type": "code",
   "execution_count": 5,
   "metadata": {},
   "outputs": [
    {
     "data": {
      "text/html": [
       "<div>\n",
       "<style scoped>\n",
       "    .dataframe tbody tr th:only-of-type {\n",
       "        vertical-align: middle;\n",
       "    }\n",
       "\n",
       "    .dataframe tbody tr th {\n",
       "        vertical-align: top;\n",
       "    }\n",
       "\n",
       "    .dataframe thead th {\n",
       "        text-align: right;\n",
       "    }\n",
       "</style>\n",
       "<table border=\"1\" class=\"dataframe\">\n",
       "  <thead>\n",
       "    <tr style=\"text-align: right;\">\n",
       "      <th></th>\n",
       "      <th>tau1</th>\n",
       "      <th>tau2</th>\n",
       "      <th>tau3</th>\n",
       "      <th>tau4</th>\n",
       "      <th>p1</th>\n",
       "      <th>p2</th>\n",
       "      <th>p3</th>\n",
       "      <th>p4</th>\n",
       "      <th>g1</th>\n",
       "      <th>g2</th>\n",
       "      <th>g3</th>\n",
       "      <th>g4</th>\n",
       "      <th>stab</th>\n",
       "      <th>stabf</th>\n",
       "    </tr>\n",
       "  </thead>\n",
       "  <tbody>\n",
       "    <tr>\n",
       "      <th>0</th>\n",
       "      <td>2.959060</td>\n",
       "      <td>3.079885</td>\n",
       "      <td>8.381025</td>\n",
       "      <td>9.780754</td>\n",
       "      <td>3.763085</td>\n",
       "      <td>-0.782604</td>\n",
       "      <td>-1.257395</td>\n",
       "      <td>-1.723086</td>\n",
       "      <td>0.650456</td>\n",
       "      <td>0.859578</td>\n",
       "      <td>0.887445</td>\n",
       "      <td>0.958034</td>\n",
       "      <td>0.055347</td>\n",
       "      <td>0</td>\n",
       "    </tr>\n",
       "    <tr>\n",
       "      <th>1</th>\n",
       "      <td>9.304097</td>\n",
       "      <td>4.902524</td>\n",
       "      <td>3.047541</td>\n",
       "      <td>1.369357</td>\n",
       "      <td>5.067812</td>\n",
       "      <td>-1.940058</td>\n",
       "      <td>-1.872742</td>\n",
       "      <td>-1.255012</td>\n",
       "      <td>0.413441</td>\n",
       "      <td>0.862414</td>\n",
       "      <td>0.562139</td>\n",
       "      <td>0.781760</td>\n",
       "      <td>-0.005957</td>\n",
       "      <td>1</td>\n",
       "    </tr>\n",
       "  </tbody>\n",
       "</table>\n",
       "</div>"
      ],
      "text/plain": [
       "       tau1      tau2      tau3      tau4        p1        p2        p3  \\\n",
       "0  2.959060  3.079885  8.381025  9.780754  3.763085 -0.782604 -1.257395   \n",
       "1  9.304097  4.902524  3.047541  1.369357  5.067812 -1.940058 -1.872742   \n",
       "\n",
       "         p4        g1        g2        g3        g4      stab  stabf  \n",
       "0 -1.723086  0.650456  0.859578  0.887445  0.958034  0.055347      0  \n",
       "1 -1.255012  0.413441  0.862414  0.562139  0.781760 -0.005957      1  "
      ]
     },
     "execution_count": 5,
     "metadata": {},
     "output_type": "execute_result"
    }
   ],
   "source": [
    "stabf = {'unstable': 0, 'stable': 1}\n",
    "data.replace({'stabf': stabf}, inplace=True)\n",
    "data.head(2)"
   ]
  },
  {
   "cell_type": "code",
   "execution_count": 6,
   "metadata": {},
   "outputs": [
    {
     "data": {
      "text/html": [
       "<div>\n",
       "<style scoped>\n",
       "    .dataframe tbody tr th:only-of-type {\n",
       "        vertical-align: middle;\n",
       "    }\n",
       "\n",
       "    .dataframe tbody tr th {\n",
       "        vertical-align: top;\n",
       "    }\n",
       "\n",
       "    .dataframe thead th {\n",
       "        text-align: right;\n",
       "    }\n",
       "</style>\n",
       "<table border=\"1\" class=\"dataframe\">\n",
       "  <thead>\n",
       "    <tr style=\"text-align: right;\">\n",
       "      <th></th>\n",
       "      <th>tau1</th>\n",
       "      <th>tau2</th>\n",
       "      <th>tau3</th>\n",
       "      <th>tau4</th>\n",
       "      <th>p1</th>\n",
       "      <th>p2</th>\n",
       "      <th>p3</th>\n",
       "      <th>p4</th>\n",
       "      <th>g1</th>\n",
       "      <th>g2</th>\n",
       "      <th>g3</th>\n",
       "      <th>g4</th>\n",
       "      <th>stab</th>\n",
       "      <th>stabf</th>\n",
       "    </tr>\n",
       "  </thead>\n",
       "  <tbody>\n",
       "    <tr>\n",
       "      <th>count</th>\n",
       "      <td>10000.000000</td>\n",
       "      <td>10000.000000</td>\n",
       "      <td>10000.000000</td>\n",
       "      <td>10000.000000</td>\n",
       "      <td>10000.000000</td>\n",
       "      <td>10000.000000</td>\n",
       "      <td>10000.000000</td>\n",
       "      <td>10000.000000</td>\n",
       "      <td>10000.000000</td>\n",
       "      <td>10000.000000</td>\n",
       "      <td>10000.000000</td>\n",
       "      <td>10000.000000</td>\n",
       "      <td>10000.000000</td>\n",
       "      <td>10000.000000</td>\n",
       "    </tr>\n",
       "    <tr>\n",
       "      <th>mean</th>\n",
       "      <td>5.250000</td>\n",
       "      <td>5.250001</td>\n",
       "      <td>5.250004</td>\n",
       "      <td>5.249997</td>\n",
       "      <td>3.750000</td>\n",
       "      <td>-1.250000</td>\n",
       "      <td>-1.250000</td>\n",
       "      <td>-1.250000</td>\n",
       "      <td>0.525000</td>\n",
       "      <td>0.525000</td>\n",
       "      <td>0.525000</td>\n",
       "      <td>0.525000</td>\n",
       "      <td>0.015731</td>\n",
       "      <td>0.362000</td>\n",
       "    </tr>\n",
       "    <tr>\n",
       "      <th>std</th>\n",
       "      <td>2.742548</td>\n",
       "      <td>2.742549</td>\n",
       "      <td>2.742549</td>\n",
       "      <td>2.742556</td>\n",
       "      <td>0.752160</td>\n",
       "      <td>0.433035</td>\n",
       "      <td>0.433035</td>\n",
       "      <td>0.433035</td>\n",
       "      <td>0.274256</td>\n",
       "      <td>0.274255</td>\n",
       "      <td>0.274255</td>\n",
       "      <td>0.274255</td>\n",
       "      <td>0.036919</td>\n",
       "      <td>0.480603</td>\n",
       "    </tr>\n",
       "    <tr>\n",
       "      <th>min</th>\n",
       "      <td>0.500793</td>\n",
       "      <td>0.500141</td>\n",
       "      <td>0.500788</td>\n",
       "      <td>0.500473</td>\n",
       "      <td>1.582590</td>\n",
       "      <td>-1.999891</td>\n",
       "      <td>-1.999945</td>\n",
       "      <td>-1.999926</td>\n",
       "      <td>0.050009</td>\n",
       "      <td>0.050053</td>\n",
       "      <td>0.050054</td>\n",
       "      <td>0.050028</td>\n",
       "      <td>-0.080760</td>\n",
       "      <td>0.000000</td>\n",
       "    </tr>\n",
       "    <tr>\n",
       "      <th>25%</th>\n",
       "      <td>2.874892</td>\n",
       "      <td>2.875140</td>\n",
       "      <td>2.875522</td>\n",
       "      <td>2.874950</td>\n",
       "      <td>3.218300</td>\n",
       "      <td>-1.624901</td>\n",
       "      <td>-1.625025</td>\n",
       "      <td>-1.624960</td>\n",
       "      <td>0.287521</td>\n",
       "      <td>0.287552</td>\n",
       "      <td>0.287514</td>\n",
       "      <td>0.287494</td>\n",
       "      <td>-0.015557</td>\n",
       "      <td>0.000000</td>\n",
       "    </tr>\n",
       "    <tr>\n",
       "      <th>50%</th>\n",
       "      <td>5.250004</td>\n",
       "      <td>5.249981</td>\n",
       "      <td>5.249979</td>\n",
       "      <td>5.249734</td>\n",
       "      <td>3.751025</td>\n",
       "      <td>-1.249966</td>\n",
       "      <td>-1.249974</td>\n",
       "      <td>-1.250007</td>\n",
       "      <td>0.525009</td>\n",
       "      <td>0.525003</td>\n",
       "      <td>0.525015</td>\n",
       "      <td>0.525002</td>\n",
       "      <td>0.017142</td>\n",
       "      <td>0.000000</td>\n",
       "    </tr>\n",
       "    <tr>\n",
       "      <th>75%</th>\n",
       "      <td>7.624690</td>\n",
       "      <td>7.624893</td>\n",
       "      <td>7.624948</td>\n",
       "      <td>7.624838</td>\n",
       "      <td>4.282420</td>\n",
       "      <td>-0.874977</td>\n",
       "      <td>-0.875043</td>\n",
       "      <td>-0.875065</td>\n",
       "      <td>0.762435</td>\n",
       "      <td>0.762490</td>\n",
       "      <td>0.762440</td>\n",
       "      <td>0.762433</td>\n",
       "      <td>0.044878</td>\n",
       "      <td>1.000000</td>\n",
       "    </tr>\n",
       "    <tr>\n",
       "      <th>max</th>\n",
       "      <td>9.999469</td>\n",
       "      <td>9.999837</td>\n",
       "      <td>9.999450</td>\n",
       "      <td>9.999443</td>\n",
       "      <td>5.864418</td>\n",
       "      <td>-0.500108</td>\n",
       "      <td>-0.500072</td>\n",
       "      <td>-0.500025</td>\n",
       "      <td>0.999937</td>\n",
       "      <td>0.999944</td>\n",
       "      <td>0.999982</td>\n",
       "      <td>0.999930</td>\n",
       "      <td>0.109403</td>\n",
       "      <td>1.000000</td>\n",
       "    </tr>\n",
       "  </tbody>\n",
       "</table>\n",
       "</div>"
      ],
      "text/plain": [
       "               tau1          tau2          tau3          tau4            p1  \\\n",
       "count  10000.000000  10000.000000  10000.000000  10000.000000  10000.000000   \n",
       "mean       5.250000      5.250001      5.250004      5.249997      3.750000   \n",
       "std        2.742548      2.742549      2.742549      2.742556      0.752160   \n",
       "min        0.500793      0.500141      0.500788      0.500473      1.582590   \n",
       "25%        2.874892      2.875140      2.875522      2.874950      3.218300   \n",
       "50%        5.250004      5.249981      5.249979      5.249734      3.751025   \n",
       "75%        7.624690      7.624893      7.624948      7.624838      4.282420   \n",
       "max        9.999469      9.999837      9.999450      9.999443      5.864418   \n",
       "\n",
       "                 p2            p3            p4            g1            g2  \\\n",
       "count  10000.000000  10000.000000  10000.000000  10000.000000  10000.000000   \n",
       "mean      -1.250000     -1.250000     -1.250000      0.525000      0.525000   \n",
       "std        0.433035      0.433035      0.433035      0.274256      0.274255   \n",
       "min       -1.999891     -1.999945     -1.999926      0.050009      0.050053   \n",
       "25%       -1.624901     -1.625025     -1.624960      0.287521      0.287552   \n",
       "50%       -1.249966     -1.249974     -1.250007      0.525009      0.525003   \n",
       "75%       -0.874977     -0.875043     -0.875065      0.762435      0.762490   \n",
       "max       -0.500108     -0.500072     -0.500025      0.999937      0.999944   \n",
       "\n",
       "                 g3            g4          stab         stabf  \n",
       "count  10000.000000  10000.000000  10000.000000  10000.000000  \n",
       "mean       0.525000      0.525000      0.015731      0.362000  \n",
       "std        0.274255      0.274255      0.036919      0.480603  \n",
       "min        0.050054      0.050028     -0.080760      0.000000  \n",
       "25%        0.287514      0.287494     -0.015557      0.000000  \n",
       "50%        0.525015      0.525002      0.017142      0.000000  \n",
       "75%        0.762440      0.762433      0.044878      1.000000  \n",
       "max        0.999982      0.999930      0.109403      1.000000  "
      ]
     },
     "execution_count": 6,
     "metadata": {},
     "output_type": "execute_result"
    }
   ],
   "source": [
    "data.describe()"
   ]
  },
  {
   "cell_type": "markdown",
   "metadata": {},
   "source": [
    "##### Разделим датасет, выделив целевой признак stabf."
   ]
  },
  {
   "cell_type": "code",
   "execution_count": 7,
   "metadata": {},
   "outputs": [
    {
     "data": {
      "text/html": [
       "<div>\n",
       "<style scoped>\n",
       "    .dataframe tbody tr th:only-of-type {\n",
       "        vertical-align: middle;\n",
       "    }\n",
       "\n",
       "    .dataframe tbody tr th {\n",
       "        vertical-align: top;\n",
       "    }\n",
       "\n",
       "    .dataframe thead th {\n",
       "        text-align: right;\n",
       "    }\n",
       "</style>\n",
       "<table border=\"1\" class=\"dataframe\">\n",
       "  <thead>\n",
       "    <tr style=\"text-align: right;\">\n",
       "      <th></th>\n",
       "      <th>tau1</th>\n",
       "      <th>tau2</th>\n",
       "      <th>tau3</th>\n",
       "      <th>tau4</th>\n",
       "      <th>p1</th>\n",
       "      <th>p2</th>\n",
       "      <th>p3</th>\n",
       "      <th>p4</th>\n",
       "      <th>g1</th>\n",
       "      <th>g2</th>\n",
       "      <th>g3</th>\n",
       "      <th>g4</th>\n",
       "      <th>stab</th>\n",
       "    </tr>\n",
       "  </thead>\n",
       "  <tbody>\n",
       "    <tr>\n",
       "      <th>0</th>\n",
       "      <td>2.959060</td>\n",
       "      <td>3.079885</td>\n",
       "      <td>8.381025</td>\n",
       "      <td>9.780754</td>\n",
       "      <td>3.763085</td>\n",
       "      <td>-0.782604</td>\n",
       "      <td>-1.257395</td>\n",
       "      <td>-1.723086</td>\n",
       "      <td>0.650456</td>\n",
       "      <td>0.859578</td>\n",
       "      <td>0.887445</td>\n",
       "      <td>0.958034</td>\n",
       "      <td>0.055347</td>\n",
       "    </tr>\n",
       "    <tr>\n",
       "      <th>1</th>\n",
       "      <td>9.304097</td>\n",
       "      <td>4.902524</td>\n",
       "      <td>3.047541</td>\n",
       "      <td>1.369357</td>\n",
       "      <td>5.067812</td>\n",
       "      <td>-1.940058</td>\n",
       "      <td>-1.872742</td>\n",
       "      <td>-1.255012</td>\n",
       "      <td>0.413441</td>\n",
       "      <td>0.862414</td>\n",
       "      <td>0.562139</td>\n",
       "      <td>0.781760</td>\n",
       "      <td>-0.005957</td>\n",
       "    </tr>\n",
       "  </tbody>\n",
       "</table>\n",
       "</div>"
      ],
      "text/plain": [
       "       tau1      tau2      tau3      tau4        p1        p2        p3  \\\n",
       "0  2.959060  3.079885  8.381025  9.780754  3.763085 -0.782604 -1.257395   \n",
       "1  9.304097  4.902524  3.047541  1.369357  5.067812 -1.940058 -1.872742   \n",
       "\n",
       "         p4        g1        g2        g3        g4      stab  \n",
       "0 -1.723086  0.650456  0.859578  0.887445  0.958034  0.055347  \n",
       "1 -1.255012  0.413441  0.862414  0.562139  0.781760 -0.005957  "
      ]
     },
     "execution_count": 7,
     "metadata": {},
     "output_type": "execute_result"
    }
   ],
   "source": [
    "target = data.stabf\n",
    "df = data.drop(columns='stabf')\n",
    "df.head(2)"
   ]
  },
  {
   "cell_type": "markdown",
   "metadata": {},
   "source": [
    "##### Посмотрим, насколько признаки линейно зависимы между собой. Построим матрицу корреляций."
   ]
  },
  {
   "cell_type": "code",
   "execution_count": 8,
   "metadata": {},
   "outputs": [
    {
     "data": {
      "text/html": [
       "<style  type=\"text/css\" >\n",
       "#T_84d28dc8_bbd6_11eb_b4a3_e38eedc2b659row0_col0,#T_84d28dc8_bbd6_11eb_b4a3_e38eedc2b659row1_col1,#T_84d28dc8_bbd6_11eb_b4a3_e38eedc2b659row2_col2,#T_84d28dc8_bbd6_11eb_b4a3_e38eedc2b659row3_col3,#T_84d28dc8_bbd6_11eb_b4a3_e38eedc2b659row4_col4,#T_84d28dc8_bbd6_11eb_b4a3_e38eedc2b659row5_col5,#T_84d28dc8_bbd6_11eb_b4a3_e38eedc2b659row6_col6,#T_84d28dc8_bbd6_11eb_b4a3_e38eedc2b659row7_col7,#T_84d28dc8_bbd6_11eb_b4a3_e38eedc2b659row8_col8,#T_84d28dc8_bbd6_11eb_b4a3_e38eedc2b659row9_col9,#T_84d28dc8_bbd6_11eb_b4a3_e38eedc2b659row10_col10,#T_84d28dc8_bbd6_11eb_b4a3_e38eedc2b659row11_col11,#T_84d28dc8_bbd6_11eb_b4a3_e38eedc2b659row12_col12{\n",
       "            background-color:  #b40426;\n",
       "            color:  #f1f1f1;\n",
       "        }#T_84d28dc8_bbd6_11eb_b4a3_e38eedc2b659row0_col1,#T_84d28dc8_bbd6_11eb_b4a3_e38eedc2b659row0_col8,#T_84d28dc8_bbd6_11eb_b4a3_e38eedc2b659row2_col1,#T_84d28dc8_bbd6_11eb_b4a3_e38eedc2b659row2_col9,#T_84d28dc8_bbd6_11eb_b4a3_e38eedc2b659row2_col10,#T_84d28dc8_bbd6_11eb_b4a3_e38eedc2b659row3_col9,#T_84d28dc8_bbd6_11eb_b4a3_e38eedc2b659row5_col12,#T_84d28dc8_bbd6_11eb_b4a3_e38eedc2b659row8_col0,#T_84d28dc8_bbd6_11eb_b4a3_e38eedc2b659row8_col9,#T_84d28dc8_bbd6_11eb_b4a3_e38eedc2b659row9_col1,#T_84d28dc8_bbd6_11eb_b4a3_e38eedc2b659row9_col2,#T_84d28dc8_bbd6_11eb_b4a3_e38eedc2b659row9_col3,#T_84d28dc8_bbd6_11eb_b4a3_e38eedc2b659row11_col8{\n",
       "            background-color:  #4257c9;\n",
       "            color:  #f1f1f1;\n",
       "        }#T_84d28dc8_bbd6_11eb_b4a3_e38eedc2b659row0_col2,#T_84d28dc8_bbd6_11eb_b4a3_e38eedc2b659row0_col10,#T_84d28dc8_bbd6_11eb_b4a3_e38eedc2b659row2_col0,#T_84d28dc8_bbd6_11eb_b4a3_e38eedc2b659row3_col1,#T_84d28dc8_bbd6_11eb_b4a3_e38eedc2b659row3_col8,#T_84d28dc8_bbd6_11eb_b4a3_e38eedc2b659row6_col2,#T_84d28dc8_bbd6_11eb_b4a3_e38eedc2b659row6_col8,#T_84d28dc8_bbd6_11eb_b4a3_e38eedc2b659row7_col10,#T_84d28dc8_bbd6_11eb_b4a3_e38eedc2b659row8_col1{\n",
       "            background-color:  #3d50c3;\n",
       "            color:  #f1f1f1;\n",
       "        }#T_84d28dc8_bbd6_11eb_b4a3_e38eedc2b659row0_col3,#T_84d28dc8_bbd6_11eb_b4a3_e38eedc2b659row1_col11,#T_84d28dc8_bbd6_11eb_b4a3_e38eedc2b659row2_col8,#T_84d28dc8_bbd6_11eb_b4a3_e38eedc2b659row2_col11,#T_84d28dc8_bbd6_11eb_b4a3_e38eedc2b659row3_col0,#T_84d28dc8_bbd6_11eb_b4a3_e38eedc2b659row4_col5,#T_84d28dc8_bbd6_11eb_b4a3_e38eedc2b659row4_col6,#T_84d28dc8_bbd6_11eb_b4a3_e38eedc2b659row4_col7,#T_84d28dc8_bbd6_11eb_b4a3_e38eedc2b659row4_col11,#T_84d28dc8_bbd6_11eb_b4a3_e38eedc2b659row5_col0,#T_84d28dc8_bbd6_11eb_b4a3_e38eedc2b659row5_col9,#T_84d28dc8_bbd6_11eb_b4a3_e38eedc2b659row6_col0,#T_84d28dc8_bbd6_11eb_b4a3_e38eedc2b659row6_col4,#T_84d28dc8_bbd6_11eb_b4a3_e38eedc2b659row7_col0,#T_84d28dc8_bbd6_11eb_b4a3_e38eedc2b659row7_col2,#T_84d28dc8_bbd6_11eb_b4a3_e38eedc2b659row7_col4,#T_84d28dc8_bbd6_11eb_b4a3_e38eedc2b659row7_col8,#T_84d28dc8_bbd6_11eb_b4a3_e38eedc2b659row7_col12,#T_84d28dc8_bbd6_11eb_b4a3_e38eedc2b659row9_col10,#T_84d28dc8_bbd6_11eb_b4a3_e38eedc2b659row9_col11,#T_84d28dc8_bbd6_11eb_b4a3_e38eedc2b659row11_col1,#T_84d28dc8_bbd6_11eb_b4a3_e38eedc2b659row11_col9{\n",
       "            background-color:  #3b4cc0;\n",
       "            color:  #f1f1f1;\n",
       "        }#T_84d28dc8_bbd6_11eb_b4a3_e38eedc2b659row0_col4{\n",
       "            background-color:  #bbd1f8;\n",
       "            color:  #000000;\n",
       "        }#T_84d28dc8_bbd6_11eb_b4a3_e38eedc2b659row0_col5,#T_84d28dc8_bbd6_11eb_b4a3_e38eedc2b659row9_col5,#T_84d28dc8_bbd6_11eb_b4a3_e38eedc2b659row12_col7{\n",
       "            background-color:  #b1cbfc;\n",
       "            color:  #000000;\n",
       "        }#T_84d28dc8_bbd6_11eb_b4a3_e38eedc2b659row0_col6,#T_84d28dc8_bbd6_11eb_b4a3_e38eedc2b659row0_col7,#T_84d28dc8_bbd6_11eb_b4a3_e38eedc2b659row2_col7,#T_84d28dc8_bbd6_11eb_b4a3_e38eedc2b659row8_col7,#T_84d28dc8_bbd6_11eb_b4a3_e38eedc2b659row11_col4{\n",
       "            background-color:  #b2ccfb;\n",
       "            color:  #000000;\n",
       "        }#T_84d28dc8_bbd6_11eb_b4a3_e38eedc2b659row0_col9,#T_84d28dc8_bbd6_11eb_b4a3_e38eedc2b659row1_col0,#T_84d28dc8_bbd6_11eb_b4a3_e38eedc2b659row1_col2,#T_84d28dc8_bbd6_11eb_b4a3_e38eedc2b659row1_col9,#T_84d28dc8_bbd6_11eb_b4a3_e38eedc2b659row4_col2,#T_84d28dc8_bbd6_11eb_b4a3_e38eedc2b659row4_col9,#T_84d28dc8_bbd6_11eb_b4a3_e38eedc2b659row5_col11,#T_84d28dc8_bbd6_11eb_b4a3_e38eedc2b659row7_col11,#T_84d28dc8_bbd6_11eb_b4a3_e38eedc2b659row9_col0,#T_84d28dc8_bbd6_11eb_b4a3_e38eedc2b659row10_col2{\n",
       "            background-color:  #445acc;\n",
       "            color:  #f1f1f1;\n",
       "        }#T_84d28dc8_bbd6_11eb_b4a3_e38eedc2b659row0_col11,#T_84d28dc8_bbd6_11eb_b4a3_e38eedc2b659row2_col3,#T_84d28dc8_bbd6_11eb_b4a3_e38eedc2b659row3_col2,#T_84d28dc8_bbd6_11eb_b4a3_e38eedc2b659row5_col10,#T_84d28dc8_bbd6_11eb_b4a3_e38eedc2b659row6_col3,#T_84d28dc8_bbd6_11eb_b4a3_e38eedc2b659row7_col9,#T_84d28dc8_bbd6_11eb_b4a3_e38eedc2b659row9_col8,#T_84d28dc8_bbd6_11eb_b4a3_e38eedc2b659row10_col3,#T_84d28dc8_bbd6_11eb_b4a3_e38eedc2b659row10_col11,#T_84d28dc8_bbd6_11eb_b4a3_e38eedc2b659row11_col0{\n",
       "            background-color:  #4055c8;\n",
       "            color:  #f1f1f1;\n",
       "        }#T_84d28dc8_bbd6_11eb_b4a3_e38eedc2b659row0_col12,#T_84d28dc8_bbd6_11eb_b4a3_e38eedc2b659row12_col3,#T_84d28dc8_bbd6_11eb_b4a3_e38eedc2b659row12_col8,#T_84d28dc8_bbd6_11eb_b4a3_e38eedc2b659row12_col11{\n",
       "            background-color:  #9bbcff;\n",
       "            color:  #000000;\n",
       "        }#T_84d28dc8_bbd6_11eb_b4a3_e38eedc2b659row1_col3,#T_84d28dc8_bbd6_11eb_b4a3_e38eedc2b659row1_col8,#T_84d28dc8_bbd6_11eb_b4a3_e38eedc2b659row3_col11,#T_84d28dc8_bbd6_11eb_b4a3_e38eedc2b659row4_col3,#T_84d28dc8_bbd6_11eb_b4a3_e38eedc2b659row4_col8,#T_84d28dc8_bbd6_11eb_b4a3_e38eedc2b659row4_col10,#T_84d28dc8_bbd6_11eb_b4a3_e38eedc2b659row5_col2,#T_84d28dc8_bbd6_11eb_b4a3_e38eedc2b659row8_col3{\n",
       "            background-color:  #3e51c5;\n",
       "            color:  #f1f1f1;\n",
       "        }#T_84d28dc8_bbd6_11eb_b4a3_e38eedc2b659row1_col4,#T_84d28dc8_bbd6_11eb_b4a3_e38eedc2b659row2_col6,#T_84d28dc8_bbd6_11eb_b4a3_e38eedc2b659row3_col4,#T_84d28dc8_bbd6_11eb_b4a3_e38eedc2b659row6_col5,#T_84d28dc8_bbd6_11eb_b4a3_e38eedc2b659row8_col6,#T_84d28dc8_bbd6_11eb_b4a3_e38eedc2b659row10_col6,#T_84d28dc8_bbd6_11eb_b4a3_e38eedc2b659row10_col7,#T_84d28dc8_bbd6_11eb_b4a3_e38eedc2b659row12_col6{\n",
       "            background-color:  #b5cdfa;\n",
       "            color:  #000000;\n",
       "        }#T_84d28dc8_bbd6_11eb_b4a3_e38eedc2b659row1_col5,#T_84d28dc8_bbd6_11eb_b4a3_e38eedc2b659row3_col5,#T_84d28dc8_bbd6_11eb_b4a3_e38eedc2b659row5_col6,#T_84d28dc8_bbd6_11eb_b4a3_e38eedc2b659row8_col4,#T_84d28dc8_bbd6_11eb_b4a3_e38eedc2b659row9_col7,#T_84d28dc8_bbd6_11eb_b4a3_e38eedc2b659row10_col4,#T_84d28dc8_bbd6_11eb_b4a3_e38eedc2b659row10_col5,#T_84d28dc8_bbd6_11eb_b4a3_e38eedc2b659row12_col5{\n",
       "            background-color:  #b6cefa;\n",
       "            color:  #000000;\n",
       "        }#T_84d28dc8_bbd6_11eb_b4a3_e38eedc2b659row1_col6,#T_84d28dc8_bbd6_11eb_b4a3_e38eedc2b659row3_col6,#T_84d28dc8_bbd6_11eb_b4a3_e38eedc2b659row6_col7,#T_84d28dc8_bbd6_11eb_b4a3_e38eedc2b659row8_col5{\n",
       "            background-color:  #b7cff9;\n",
       "            color:  #000000;\n",
       "        }#T_84d28dc8_bbd6_11eb_b4a3_e38eedc2b659row1_col7,#T_84d28dc8_bbd6_11eb_b4a3_e38eedc2b659row2_col5,#T_84d28dc8_bbd6_11eb_b4a3_e38eedc2b659row3_col7,#T_84d28dc8_bbd6_11eb_b4a3_e38eedc2b659row5_col7,#T_84d28dc8_bbd6_11eb_b4a3_e38eedc2b659row7_col5,#T_84d28dc8_bbd6_11eb_b4a3_e38eedc2b659row9_col6,#T_84d28dc8_bbd6_11eb_b4a3_e38eedc2b659row11_col6{\n",
       "            background-color:  #b3cdfb;\n",
       "            color:  #000000;\n",
       "        }#T_84d28dc8_bbd6_11eb_b4a3_e38eedc2b659row1_col10,#T_84d28dc8_bbd6_11eb_b4a3_e38eedc2b659row4_col12,#T_84d28dc8_bbd6_11eb_b4a3_e38eedc2b659row5_col3,#T_84d28dc8_bbd6_11eb_b4a3_e38eedc2b659row5_col8,#T_84d28dc8_bbd6_11eb_b4a3_e38eedc2b659row8_col11,#T_84d28dc8_bbd6_11eb_b4a3_e38eedc2b659row10_col1{\n",
       "            background-color:  #4358cb;\n",
       "            color:  #f1f1f1;\n",
       "        }#T_84d28dc8_bbd6_11eb_b4a3_e38eedc2b659row1_col12,#T_84d28dc8_bbd6_11eb_b4a3_e38eedc2b659row9_col12,#T_84d28dc8_bbd6_11eb_b4a3_e38eedc2b659row12_col9{\n",
       "            background-color:  #a1c0ff;\n",
       "            color:  #000000;\n",
       "        }#T_84d28dc8_bbd6_11eb_b4a3_e38eedc2b659row2_col4{\n",
       "            background-color:  #bad0f8;\n",
       "            color:  #000000;\n",
       "        }#T_84d28dc8_bbd6_11eb_b4a3_e38eedc2b659row2_col12,#T_84d28dc8_bbd6_11eb_b4a3_e38eedc2b659row3_col12,#T_84d28dc8_bbd6_11eb_b4a3_e38eedc2b659row11_col12,#T_84d28dc8_bbd6_11eb_b4a3_e38eedc2b659row12_col2{\n",
       "            background-color:  #9dbdff;\n",
       "            color:  #000000;\n",
       "        }#T_84d28dc8_bbd6_11eb_b4a3_e38eedc2b659row3_col10,#T_84d28dc8_bbd6_11eb_b4a3_e38eedc2b659row5_col1,#T_84d28dc8_bbd6_11eb_b4a3_e38eedc2b659row6_col1,#T_84d28dc8_bbd6_11eb_b4a3_e38eedc2b659row6_col12,#T_84d28dc8_bbd6_11eb_b4a3_e38eedc2b659row10_col0,#T_84d28dc8_bbd6_11eb_b4a3_e38eedc2b659row11_col3,#T_84d28dc8_bbd6_11eb_b4a3_e38eedc2b659row11_col10{\n",
       "            background-color:  #3f53c6;\n",
       "            color:  #f1f1f1;\n",
       "        }#T_84d28dc8_bbd6_11eb_b4a3_e38eedc2b659row4_col0{\n",
       "            background-color:  #485fd1;\n",
       "            color:  #f1f1f1;\n",
       "        }#T_84d28dc8_bbd6_11eb_b4a3_e38eedc2b659row4_col1,#T_84d28dc8_bbd6_11eb_b4a3_e38eedc2b659row5_col4,#T_84d28dc8_bbd6_11eb_b4a3_e38eedc2b659row6_col9,#T_84d28dc8_bbd6_11eb_b4a3_e38eedc2b659row6_col10,#T_84d28dc8_bbd6_11eb_b4a3_e38eedc2b659row6_col11,#T_84d28dc8_bbd6_11eb_b4a3_e38eedc2b659row7_col1,#T_84d28dc8_bbd6_11eb_b4a3_e38eedc2b659row7_col3,#T_84d28dc8_bbd6_11eb_b4a3_e38eedc2b659row8_col2,#T_84d28dc8_bbd6_11eb_b4a3_e38eedc2b659row8_col10,#T_84d28dc8_bbd6_11eb_b4a3_e38eedc2b659row10_col8,#T_84d28dc8_bbd6_11eb_b4a3_e38eedc2b659row10_col9,#T_84d28dc8_bbd6_11eb_b4a3_e38eedc2b659row11_col2{\n",
       "            background-color:  #3c4ec2;\n",
       "            color:  #f1f1f1;\n",
       "        }#T_84d28dc8_bbd6_11eb_b4a3_e38eedc2b659row7_col6,#T_84d28dc8_bbd6_11eb_b4a3_e38eedc2b659row9_col4,#T_84d28dc8_bbd6_11eb_b4a3_e38eedc2b659row11_col5,#T_84d28dc8_bbd6_11eb_b4a3_e38eedc2b659row11_col7,#T_84d28dc8_bbd6_11eb_b4a3_e38eedc2b659row12_col4{\n",
       "            background-color:  #b9d0f9;\n",
       "            color:  #000000;\n",
       "        }#T_84d28dc8_bbd6_11eb_b4a3_e38eedc2b659row8_col12,#T_84d28dc8_bbd6_11eb_b4a3_e38eedc2b659row12_col1{\n",
       "            background-color:  #9ebeff;\n",
       "            color:  #000000;\n",
       "        }#T_84d28dc8_bbd6_11eb_b4a3_e38eedc2b659row10_col12{\n",
       "            background-color:  #a6c4fe;\n",
       "            color:  #000000;\n",
       "        }#T_84d28dc8_bbd6_11eb_b4a3_e38eedc2b659row12_col0{\n",
       "            background-color:  #9abbff;\n",
       "            color:  #000000;\n",
       "        }#T_84d28dc8_bbd6_11eb_b4a3_e38eedc2b659row12_col10{\n",
       "            background-color:  #a5c3fe;\n",
       "            color:  #000000;\n",
       "        }</style><table id=\"T_84d28dc8_bbd6_11eb_b4a3_e38eedc2b659\" ><thead>    <tr>        <th class=\"blank level0\" ></th>        <th class=\"col_heading level0 col0\" >tau1</th>        <th class=\"col_heading level0 col1\" >tau2</th>        <th class=\"col_heading level0 col2\" >tau3</th>        <th class=\"col_heading level0 col3\" >tau4</th>        <th class=\"col_heading level0 col4\" >p1</th>        <th class=\"col_heading level0 col5\" >p2</th>        <th class=\"col_heading level0 col6\" >p3</th>        <th class=\"col_heading level0 col7\" >p4</th>        <th class=\"col_heading level0 col8\" >g1</th>        <th class=\"col_heading level0 col9\" >g2</th>        <th class=\"col_heading level0 col10\" >g3</th>        <th class=\"col_heading level0 col11\" >g4</th>        <th class=\"col_heading level0 col12\" >stab</th>    </tr></thead><tbody>\n",
       "                <tr>\n",
       "                        <th id=\"T_84d28dc8_bbd6_11eb_b4a3_e38eedc2b659level0_row0\" class=\"row_heading level0 row0\" >tau1</th>\n",
       "                        <td id=\"T_84d28dc8_bbd6_11eb_b4a3_e38eedc2b659row0_col0\" class=\"data row0 col0\" >1.000000</td>\n",
       "                        <td id=\"T_84d28dc8_bbd6_11eb_b4a3_e38eedc2b659row0_col1\" class=\"data row0 col1\" >0.015586</td>\n",
       "                        <td id=\"T_84d28dc8_bbd6_11eb_b4a3_e38eedc2b659row0_col2\" class=\"data row0 col2\" >-0.005970</td>\n",
       "                        <td id=\"T_84d28dc8_bbd6_11eb_b4a3_e38eedc2b659row0_col3\" class=\"data row0 col3\" >-0.017265</td>\n",
       "                        <td id=\"T_84d28dc8_bbd6_11eb_b4a3_e38eedc2b659row0_col4\" class=\"data row0 col4\" >0.027183</td>\n",
       "                        <td id=\"T_84d28dc8_bbd6_11eb_b4a3_e38eedc2b659row0_col5\" class=\"data row0 col5\" >-0.015485</td>\n",
       "                        <td id=\"T_84d28dc8_bbd6_11eb_b4a3_e38eedc2b659row0_col6\" class=\"data row0 col6\" >-0.015924</td>\n",
       "                        <td id=\"T_84d28dc8_bbd6_11eb_b4a3_e38eedc2b659row0_col7\" class=\"data row0 col7\" >-0.015807</td>\n",
       "                        <td id=\"T_84d28dc8_bbd6_11eb_b4a3_e38eedc2b659row0_col8\" class=\"data row0 col8\" >0.010521</td>\n",
       "                        <td id=\"T_84d28dc8_bbd6_11eb_b4a3_e38eedc2b659row0_col9\" class=\"data row0 col9\" >0.015350</td>\n",
       "                        <td id=\"T_84d28dc8_bbd6_11eb_b4a3_e38eedc2b659row0_col10\" class=\"data row0 col10\" >-0.001279</td>\n",
       "                        <td id=\"T_84d28dc8_bbd6_11eb_b4a3_e38eedc2b659row0_col11\" class=\"data row0 col11\" >0.005494</td>\n",
       "                        <td id=\"T_84d28dc8_bbd6_11eb_b4a3_e38eedc2b659row0_col12\" class=\"data row0 col12\" >0.275761</td>\n",
       "            </tr>\n",
       "            <tr>\n",
       "                        <th id=\"T_84d28dc8_bbd6_11eb_b4a3_e38eedc2b659level0_row1\" class=\"row_heading level0 row1\" >tau2</th>\n",
       "                        <td id=\"T_84d28dc8_bbd6_11eb_b4a3_e38eedc2b659row1_col0\" class=\"data row1 col0\" >0.015586</td>\n",
       "                        <td id=\"T_84d28dc8_bbd6_11eb_b4a3_e38eedc2b659row1_col1\" class=\"data row1 col1\" >1.000000</td>\n",
       "                        <td id=\"T_84d28dc8_bbd6_11eb_b4a3_e38eedc2b659row1_col2\" class=\"data row1 col2\" >0.014273</td>\n",
       "                        <td id=\"T_84d28dc8_bbd6_11eb_b4a3_e38eedc2b659row1_col3\" class=\"data row1 col3\" >-0.001965</td>\n",
       "                        <td id=\"T_84d28dc8_bbd6_11eb_b4a3_e38eedc2b659row1_col4\" class=\"data row1 col4\" >-0.004769</td>\n",
       "                        <td id=\"T_84d28dc8_bbd6_11eb_b4a3_e38eedc2b659row1_col5\" class=\"data row1 col5\" >0.006573</td>\n",
       "                        <td id=\"T_84d28dc8_bbd6_11eb_b4a3_e38eedc2b659row1_col6\" class=\"data row1 col6\" >0.007673</td>\n",
       "                        <td id=\"T_84d28dc8_bbd6_11eb_b4a3_e38eedc2b659row1_col7\" class=\"data row1 col7\" >-0.005963</td>\n",
       "                        <td id=\"T_84d28dc8_bbd6_11eb_b4a3_e38eedc2b659row1_col8\" class=\"data row1 col8\" >-0.001742</td>\n",
       "                        <td id=\"T_84d28dc8_bbd6_11eb_b4a3_e38eedc2b659row1_col9\" class=\"data row1 col9\" >0.015383</td>\n",
       "                        <td id=\"T_84d28dc8_bbd6_11eb_b4a3_e38eedc2b659row1_col10\" class=\"data row1 col10\" >0.016508</td>\n",
       "                        <td id=\"T_84d28dc8_bbd6_11eb_b4a3_e38eedc2b659row1_col11\" class=\"data row1 col11\" >-0.011764</td>\n",
       "                        <td id=\"T_84d28dc8_bbd6_11eb_b4a3_e38eedc2b659row1_col12\" class=\"data row1 col12\" >0.290975</td>\n",
       "            </tr>\n",
       "            <tr>\n",
       "                        <th id=\"T_84d28dc8_bbd6_11eb_b4a3_e38eedc2b659level0_row2\" class=\"row_heading level0 row2\" >tau3</th>\n",
       "                        <td id=\"T_84d28dc8_bbd6_11eb_b4a3_e38eedc2b659row2_col0\" class=\"data row2 col0\" >-0.005970</td>\n",
       "                        <td id=\"T_84d28dc8_bbd6_11eb_b4a3_e38eedc2b659row2_col1\" class=\"data row2 col1\" >0.014273</td>\n",
       "                        <td id=\"T_84d28dc8_bbd6_11eb_b4a3_e38eedc2b659row2_col2\" class=\"data row2 col2\" >1.000000</td>\n",
       "                        <td id=\"T_84d28dc8_bbd6_11eb_b4a3_e38eedc2b659row2_col3\" class=\"data row2 col3\" >0.004354</td>\n",
       "                        <td id=\"T_84d28dc8_bbd6_11eb_b4a3_e38eedc2b659row2_col4\" class=\"data row2 col4\" >0.016953</td>\n",
       "                        <td id=\"T_84d28dc8_bbd6_11eb_b4a3_e38eedc2b659row2_col5\" class=\"data row2 col5\" >-0.003134</td>\n",
       "                        <td id=\"T_84d28dc8_bbd6_11eb_b4a3_e38eedc2b659row2_col6\" class=\"data row2 col6\" >-0.008780</td>\n",
       "                        <td id=\"T_84d28dc8_bbd6_11eb_b4a3_e38eedc2b659row2_col7\" class=\"data row2 col7\" >-0.017531</td>\n",
       "                        <td id=\"T_84d28dc8_bbd6_11eb_b4a3_e38eedc2b659row2_col8\" class=\"data row2 col8\" >-0.011605</td>\n",
       "                        <td id=\"T_84d28dc8_bbd6_11eb_b4a3_e38eedc2b659row2_col9\" class=\"data row2 col9\" >0.007671</td>\n",
       "                        <td id=\"T_84d28dc8_bbd6_11eb_b4a3_e38eedc2b659row2_col10\" class=\"data row2 col10\" >0.014702</td>\n",
       "                        <td id=\"T_84d28dc8_bbd6_11eb_b4a3_e38eedc2b659row2_col11\" class=\"data row2 col11\" >-0.011497</td>\n",
       "                        <td id=\"T_84d28dc8_bbd6_11eb_b4a3_e38eedc2b659row2_col12\" class=\"data row2 col12\" >0.280700</td>\n",
       "            </tr>\n",
       "            <tr>\n",
       "                        <th id=\"T_84d28dc8_bbd6_11eb_b4a3_e38eedc2b659level0_row3\" class=\"row_heading level0 row3\" >tau4</th>\n",
       "                        <td id=\"T_84d28dc8_bbd6_11eb_b4a3_e38eedc2b659row3_col0\" class=\"data row3 col0\" >-0.017265</td>\n",
       "                        <td id=\"T_84d28dc8_bbd6_11eb_b4a3_e38eedc2b659row3_col1\" class=\"data row3 col1\" >-0.001965</td>\n",
       "                        <td id=\"T_84d28dc8_bbd6_11eb_b4a3_e38eedc2b659row3_col2\" class=\"data row3 col2\" >0.004354</td>\n",
       "                        <td id=\"T_84d28dc8_bbd6_11eb_b4a3_e38eedc2b659row3_col3\" class=\"data row3 col3\" >1.000000</td>\n",
       "                        <td id=\"T_84d28dc8_bbd6_11eb_b4a3_e38eedc2b659row3_col4\" class=\"data row3 col4\" >-0.003173</td>\n",
       "                        <td id=\"T_84d28dc8_bbd6_11eb_b4a3_e38eedc2b659row3_col5\" class=\"data row3 col5\" >0.010553</td>\n",
       "                        <td id=\"T_84d28dc8_bbd6_11eb_b4a3_e38eedc2b659row3_col6\" class=\"data row3 col6\" >0.006169</td>\n",
       "                        <td id=\"T_84d28dc8_bbd6_11eb_b4a3_e38eedc2b659row3_col7\" class=\"data row3 col7\" >-0.011211</td>\n",
       "                        <td id=\"T_84d28dc8_bbd6_11eb_b4a3_e38eedc2b659row3_col8\" class=\"data row3 col8\" >-0.004149</td>\n",
       "                        <td id=\"T_84d28dc8_bbd6_11eb_b4a3_e38eedc2b659row3_col9\" class=\"data row3 col9\" >0.008431</td>\n",
       "                        <td id=\"T_84d28dc8_bbd6_11eb_b4a3_e38eedc2b659row3_col10\" class=\"data row3 col10\" >0.003260</td>\n",
       "                        <td id=\"T_84d28dc8_bbd6_11eb_b4a3_e38eedc2b659row3_col11\" class=\"data row3 col11\" >-0.000491</td>\n",
       "                        <td id=\"T_84d28dc8_bbd6_11eb_b4a3_e38eedc2b659row3_col12\" class=\"data row3 col12\" >0.278576</td>\n",
       "            </tr>\n",
       "            <tr>\n",
       "                        <th id=\"T_84d28dc8_bbd6_11eb_b4a3_e38eedc2b659level0_row4\" class=\"row_heading level0 row4\" >p1</th>\n",
       "                        <td id=\"T_84d28dc8_bbd6_11eb_b4a3_e38eedc2b659row4_col0\" class=\"data row4 col0\" >0.027183</td>\n",
       "                        <td id=\"T_84d28dc8_bbd6_11eb_b4a3_e38eedc2b659row4_col1\" class=\"data row4 col1\" >-0.004769</td>\n",
       "                        <td id=\"T_84d28dc8_bbd6_11eb_b4a3_e38eedc2b659row4_col2\" class=\"data row4 col2\" >0.016953</td>\n",
       "                        <td id=\"T_84d28dc8_bbd6_11eb_b4a3_e38eedc2b659row4_col3\" class=\"data row4 col3\" >-0.003173</td>\n",
       "                        <td id=\"T_84d28dc8_bbd6_11eb_b4a3_e38eedc2b659row4_col4\" class=\"data row4 col4\" >1.000000</td>\n",
       "                        <td id=\"T_84d28dc8_bbd6_11eb_b4a3_e38eedc2b659row4_col5\" class=\"data row4 col5\" >-0.573157</td>\n",
       "                        <td id=\"T_84d28dc8_bbd6_11eb_b4a3_e38eedc2b659row4_col6\" class=\"data row4 col6\" >-0.584554</td>\n",
       "                        <td id=\"T_84d28dc8_bbd6_11eb_b4a3_e38eedc2b659row4_col7\" class=\"data row4 col7\" >-0.579239</td>\n",
       "                        <td id=\"T_84d28dc8_bbd6_11eb_b4a3_e38eedc2b659row4_col8\" class=\"data row4 col8\" >0.000721</td>\n",
       "                        <td id=\"T_84d28dc8_bbd6_11eb_b4a3_e38eedc2b659row4_col9\" class=\"data row4 col9\" >0.015405</td>\n",
       "                        <td id=\"T_84d28dc8_bbd6_11eb_b4a3_e38eedc2b659row4_col10\" class=\"data row4 col10\" >0.001069</td>\n",
       "                        <td id=\"T_84d28dc8_bbd6_11eb_b4a3_e38eedc2b659row4_col11\" class=\"data row4 col11\" >-0.015451</td>\n",
       "                        <td id=\"T_84d28dc8_bbd6_11eb_b4a3_e38eedc2b659row4_col12\" class=\"data row4 col12\" >0.010278</td>\n",
       "            </tr>\n",
       "            <tr>\n",
       "                        <th id=\"T_84d28dc8_bbd6_11eb_b4a3_e38eedc2b659level0_row5\" class=\"row_heading level0 row5\" >p2</th>\n",
       "                        <td id=\"T_84d28dc8_bbd6_11eb_b4a3_e38eedc2b659row5_col0\" class=\"data row5 col0\" >-0.015485</td>\n",
       "                        <td id=\"T_84d28dc8_bbd6_11eb_b4a3_e38eedc2b659row5_col1\" class=\"data row5 col1\" >0.006573</td>\n",
       "                        <td id=\"T_84d28dc8_bbd6_11eb_b4a3_e38eedc2b659row5_col2\" class=\"data row5 col2\" >-0.003134</td>\n",
       "                        <td id=\"T_84d28dc8_bbd6_11eb_b4a3_e38eedc2b659row5_col3\" class=\"data row5 col3\" >0.010553</td>\n",
       "                        <td id=\"T_84d28dc8_bbd6_11eb_b4a3_e38eedc2b659row5_col4\" class=\"data row5 col4\" >-0.573157</td>\n",
       "                        <td id=\"T_84d28dc8_bbd6_11eb_b4a3_e38eedc2b659row5_col5\" class=\"data row5 col5\" >1.000000</td>\n",
       "                        <td id=\"T_84d28dc8_bbd6_11eb_b4a3_e38eedc2b659row5_col6\" class=\"data row5 col6\" >0.002388</td>\n",
       "                        <td id=\"T_84d28dc8_bbd6_11eb_b4a3_e38eedc2b659row5_col7\" class=\"data row5 col7\" >-0.006844</td>\n",
       "                        <td id=\"T_84d28dc8_bbd6_11eb_b4a3_e38eedc2b659row5_col8\" class=\"data row5 col8\" >0.015603</td>\n",
       "                        <td id=\"T_84d28dc8_bbd6_11eb_b4a3_e38eedc2b659row5_col9\" class=\"data row5 col9\" >-0.018032</td>\n",
       "                        <td id=\"T_84d28dc8_bbd6_11eb_b4a3_e38eedc2b659row5_col10\" class=\"data row5 col10\" >0.007555</td>\n",
       "                        <td id=\"T_84d28dc8_bbd6_11eb_b4a3_e38eedc2b659row5_col11\" class=\"data row5 col11\" >0.019817</td>\n",
       "                        <td id=\"T_84d28dc8_bbd6_11eb_b4a3_e38eedc2b659row5_col12\" class=\"data row5 col12\" >0.006255</td>\n",
       "            </tr>\n",
       "            <tr>\n",
       "                        <th id=\"T_84d28dc8_bbd6_11eb_b4a3_e38eedc2b659level0_row6\" class=\"row_heading level0 row6\" >p3</th>\n",
       "                        <td id=\"T_84d28dc8_bbd6_11eb_b4a3_e38eedc2b659row6_col0\" class=\"data row6 col0\" >-0.015924</td>\n",
       "                        <td id=\"T_84d28dc8_bbd6_11eb_b4a3_e38eedc2b659row6_col1\" class=\"data row6 col1\" >0.007673</td>\n",
       "                        <td id=\"T_84d28dc8_bbd6_11eb_b4a3_e38eedc2b659row6_col2\" class=\"data row6 col2\" >-0.008780</td>\n",
       "                        <td id=\"T_84d28dc8_bbd6_11eb_b4a3_e38eedc2b659row6_col3\" class=\"data row6 col3\" >0.006169</td>\n",
       "                        <td id=\"T_84d28dc8_bbd6_11eb_b4a3_e38eedc2b659row6_col4\" class=\"data row6 col4\" >-0.584554</td>\n",
       "                        <td id=\"T_84d28dc8_bbd6_11eb_b4a3_e38eedc2b659row6_col5\" class=\"data row6 col5\" >0.002388</td>\n",
       "                        <td id=\"T_84d28dc8_bbd6_11eb_b4a3_e38eedc2b659row6_col6\" class=\"data row6 col6\" >1.000000</td>\n",
       "                        <td id=\"T_84d28dc8_bbd6_11eb_b4a3_e38eedc2b659row6_col7\" class=\"data row6 col7\" >0.012953</td>\n",
       "                        <td id=\"T_84d28dc8_bbd6_11eb_b4a3_e38eedc2b659row6_col8\" class=\"data row6 col8\" >-0.003219</td>\n",
       "                        <td id=\"T_84d28dc8_bbd6_11eb_b4a3_e38eedc2b659row6_col9\" class=\"data row6 col9\" >-0.011575</td>\n",
       "                        <td id=\"T_84d28dc8_bbd6_11eb_b4a3_e38eedc2b659row6_col10\" class=\"data row6 col10\" >-0.005897</td>\n",
       "                        <td id=\"T_84d28dc8_bbd6_11eb_b4a3_e38eedc2b659row6_col11\" class=\"data row6 col11\" >-0.010485</td>\n",
       "                        <td id=\"T_84d28dc8_bbd6_11eb_b4a3_e38eedc2b659row6_col12\" class=\"data row6 col12\" >-0.003321</td>\n",
       "            </tr>\n",
       "            <tr>\n",
       "                        <th id=\"T_84d28dc8_bbd6_11eb_b4a3_e38eedc2b659level0_row7\" class=\"row_heading level0 row7\" >p4</th>\n",
       "                        <td id=\"T_84d28dc8_bbd6_11eb_b4a3_e38eedc2b659row7_col0\" class=\"data row7 col0\" >-0.015807</td>\n",
       "                        <td id=\"T_84d28dc8_bbd6_11eb_b4a3_e38eedc2b659row7_col1\" class=\"data row7 col1\" >-0.005963</td>\n",
       "                        <td id=\"T_84d28dc8_bbd6_11eb_b4a3_e38eedc2b659row7_col2\" class=\"data row7 col2\" >-0.017531</td>\n",
       "                        <td id=\"T_84d28dc8_bbd6_11eb_b4a3_e38eedc2b659row7_col3\" class=\"data row7 col3\" >-0.011211</td>\n",
       "                        <td id=\"T_84d28dc8_bbd6_11eb_b4a3_e38eedc2b659row7_col4\" class=\"data row7 col4\" >-0.579239</td>\n",
       "                        <td id=\"T_84d28dc8_bbd6_11eb_b4a3_e38eedc2b659row7_col5\" class=\"data row7 col5\" >-0.006844</td>\n",
       "                        <td id=\"T_84d28dc8_bbd6_11eb_b4a3_e38eedc2b659row7_col6\" class=\"data row7 col6\" >0.012953</td>\n",
       "                        <td id=\"T_84d28dc8_bbd6_11eb_b4a3_e38eedc2b659row7_col7\" class=\"data row7 col7\" >1.000000</td>\n",
       "                        <td id=\"T_84d28dc8_bbd6_11eb_b4a3_e38eedc2b659row7_col8\" class=\"data row7 col8\" >-0.013636</td>\n",
       "                        <td id=\"T_84d28dc8_bbd6_11eb_b4a3_e38eedc2b659row7_col9\" class=\"data row7 col9\" >0.002850</td>\n",
       "                        <td id=\"T_84d28dc8_bbd6_11eb_b4a3_e38eedc2b659row7_col10\" class=\"data row7 col10\" >-0.003515</td>\n",
       "                        <td id=\"T_84d28dc8_bbd6_11eb_b4a3_e38eedc2b659row7_col11\" class=\"data row7 col11\" >0.017505</td>\n",
       "                        <td id=\"T_84d28dc8_bbd6_11eb_b4a3_e38eedc2b659row7_col12\" class=\"data row7 col12\" >-0.020786</td>\n",
       "            </tr>\n",
       "            <tr>\n",
       "                        <th id=\"T_84d28dc8_bbd6_11eb_b4a3_e38eedc2b659level0_row8\" class=\"row_heading level0 row8\" >g1</th>\n",
       "                        <td id=\"T_84d28dc8_bbd6_11eb_b4a3_e38eedc2b659row8_col0\" class=\"data row8 col0\" >0.010521</td>\n",
       "                        <td id=\"T_84d28dc8_bbd6_11eb_b4a3_e38eedc2b659row8_col1\" class=\"data row8 col1\" >-0.001742</td>\n",
       "                        <td id=\"T_84d28dc8_bbd6_11eb_b4a3_e38eedc2b659row8_col2\" class=\"data row8 col2\" >-0.011605</td>\n",
       "                        <td id=\"T_84d28dc8_bbd6_11eb_b4a3_e38eedc2b659row8_col3\" class=\"data row8 col3\" >-0.004149</td>\n",
       "                        <td id=\"T_84d28dc8_bbd6_11eb_b4a3_e38eedc2b659row8_col4\" class=\"data row8 col4\" >0.000721</td>\n",
       "                        <td id=\"T_84d28dc8_bbd6_11eb_b4a3_e38eedc2b659row8_col5\" class=\"data row8 col5\" >0.015603</td>\n",
       "                        <td id=\"T_84d28dc8_bbd6_11eb_b4a3_e38eedc2b659row8_col6\" class=\"data row8 col6\" >-0.003219</td>\n",
       "                        <td id=\"T_84d28dc8_bbd6_11eb_b4a3_e38eedc2b659row8_col7\" class=\"data row8 col7\" >-0.013636</td>\n",
       "                        <td id=\"T_84d28dc8_bbd6_11eb_b4a3_e38eedc2b659row8_col8\" class=\"data row8 col8\" >1.000000</td>\n",
       "                        <td id=\"T_84d28dc8_bbd6_11eb_b4a3_e38eedc2b659row8_col9\" class=\"data row8 col9\" >0.007559</td>\n",
       "                        <td id=\"T_84d28dc8_bbd6_11eb_b4a3_e38eedc2b659row8_col10\" class=\"data row8 col10\" >-0.005836</td>\n",
       "                        <td id=\"T_84d28dc8_bbd6_11eb_b4a3_e38eedc2b659row8_col11\" class=\"data row8 col11\" >0.012431</td>\n",
       "                        <td id=\"T_84d28dc8_bbd6_11eb_b4a3_e38eedc2b659row8_col12\" class=\"data row8 col12\" >0.282774</td>\n",
       "            </tr>\n",
       "            <tr>\n",
       "                        <th id=\"T_84d28dc8_bbd6_11eb_b4a3_e38eedc2b659level0_row9\" class=\"row_heading level0 row9\" >g2</th>\n",
       "                        <td id=\"T_84d28dc8_bbd6_11eb_b4a3_e38eedc2b659row9_col0\" class=\"data row9 col0\" >0.015350</td>\n",
       "                        <td id=\"T_84d28dc8_bbd6_11eb_b4a3_e38eedc2b659row9_col1\" class=\"data row9 col1\" >0.015383</td>\n",
       "                        <td id=\"T_84d28dc8_bbd6_11eb_b4a3_e38eedc2b659row9_col2\" class=\"data row9 col2\" >0.007671</td>\n",
       "                        <td id=\"T_84d28dc8_bbd6_11eb_b4a3_e38eedc2b659row9_col3\" class=\"data row9 col3\" >0.008431</td>\n",
       "                        <td id=\"T_84d28dc8_bbd6_11eb_b4a3_e38eedc2b659row9_col4\" class=\"data row9 col4\" >0.015405</td>\n",
       "                        <td id=\"T_84d28dc8_bbd6_11eb_b4a3_e38eedc2b659row9_col5\" class=\"data row9 col5\" >-0.018032</td>\n",
       "                        <td id=\"T_84d28dc8_bbd6_11eb_b4a3_e38eedc2b659row9_col6\" class=\"data row9 col6\" >-0.011575</td>\n",
       "                        <td id=\"T_84d28dc8_bbd6_11eb_b4a3_e38eedc2b659row9_col7\" class=\"data row9 col7\" >0.002850</td>\n",
       "                        <td id=\"T_84d28dc8_bbd6_11eb_b4a3_e38eedc2b659row9_col8\" class=\"data row9 col8\" >0.007559</td>\n",
       "                        <td id=\"T_84d28dc8_bbd6_11eb_b4a3_e38eedc2b659row9_col9\" class=\"data row9 col9\" >1.000000</td>\n",
       "                        <td id=\"T_84d28dc8_bbd6_11eb_b4a3_e38eedc2b659row9_col10\" class=\"data row9 col10\" >-0.012809</td>\n",
       "                        <td id=\"T_84d28dc8_bbd6_11eb_b4a3_e38eedc2b659row9_col11\" class=\"data row9 col11\" >-0.014909</td>\n",
       "                        <td id=\"T_84d28dc8_bbd6_11eb_b4a3_e38eedc2b659row9_col12\" class=\"data row9 col12\" >0.293601</td>\n",
       "            </tr>\n",
       "            <tr>\n",
       "                        <th id=\"T_84d28dc8_bbd6_11eb_b4a3_e38eedc2b659level0_row10\" class=\"row_heading level0 row10\" >g3</th>\n",
       "                        <td id=\"T_84d28dc8_bbd6_11eb_b4a3_e38eedc2b659row10_col0\" class=\"data row10 col0\" >-0.001279</td>\n",
       "                        <td id=\"T_84d28dc8_bbd6_11eb_b4a3_e38eedc2b659row10_col1\" class=\"data row10 col1\" >0.016508</td>\n",
       "                        <td id=\"T_84d28dc8_bbd6_11eb_b4a3_e38eedc2b659row10_col2\" class=\"data row10 col2\" >0.014702</td>\n",
       "                        <td id=\"T_84d28dc8_bbd6_11eb_b4a3_e38eedc2b659row10_col3\" class=\"data row10 col3\" >0.003260</td>\n",
       "                        <td id=\"T_84d28dc8_bbd6_11eb_b4a3_e38eedc2b659row10_col4\" class=\"data row10 col4\" >0.001069</td>\n",
       "                        <td id=\"T_84d28dc8_bbd6_11eb_b4a3_e38eedc2b659row10_col5\" class=\"data row10 col5\" >0.007555</td>\n",
       "                        <td id=\"T_84d28dc8_bbd6_11eb_b4a3_e38eedc2b659row10_col6\" class=\"data row10 col6\" >-0.005897</td>\n",
       "                        <td id=\"T_84d28dc8_bbd6_11eb_b4a3_e38eedc2b659row10_col7\" class=\"data row10 col7\" >-0.003515</td>\n",
       "                        <td id=\"T_84d28dc8_bbd6_11eb_b4a3_e38eedc2b659row10_col8\" class=\"data row10 col8\" >-0.005836</td>\n",
       "                        <td id=\"T_84d28dc8_bbd6_11eb_b4a3_e38eedc2b659row10_col9\" class=\"data row10 col9\" >-0.012809</td>\n",
       "                        <td id=\"T_84d28dc8_bbd6_11eb_b4a3_e38eedc2b659row10_col10\" class=\"data row10 col10\" >1.000000</td>\n",
       "                        <td id=\"T_84d28dc8_bbd6_11eb_b4a3_e38eedc2b659row10_col11\" class=\"data row10 col11\" >0.006900</td>\n",
       "                        <td id=\"T_84d28dc8_bbd6_11eb_b4a3_e38eedc2b659row10_col12\" class=\"data row10 col12\" >0.308235</td>\n",
       "            </tr>\n",
       "            <tr>\n",
       "                        <th id=\"T_84d28dc8_bbd6_11eb_b4a3_e38eedc2b659level0_row11\" class=\"row_heading level0 row11\" >g4</th>\n",
       "                        <td id=\"T_84d28dc8_bbd6_11eb_b4a3_e38eedc2b659row11_col0\" class=\"data row11 col0\" >0.005494</td>\n",
       "                        <td id=\"T_84d28dc8_bbd6_11eb_b4a3_e38eedc2b659row11_col1\" class=\"data row11 col1\" >-0.011764</td>\n",
       "                        <td id=\"T_84d28dc8_bbd6_11eb_b4a3_e38eedc2b659row11_col2\" class=\"data row11 col2\" >-0.011497</td>\n",
       "                        <td id=\"T_84d28dc8_bbd6_11eb_b4a3_e38eedc2b659row11_col3\" class=\"data row11 col3\" >-0.000491</td>\n",
       "                        <td id=\"T_84d28dc8_bbd6_11eb_b4a3_e38eedc2b659row11_col4\" class=\"data row11 col4\" >-0.015451</td>\n",
       "                        <td id=\"T_84d28dc8_bbd6_11eb_b4a3_e38eedc2b659row11_col5\" class=\"data row11 col5\" >0.019817</td>\n",
       "                        <td id=\"T_84d28dc8_bbd6_11eb_b4a3_e38eedc2b659row11_col6\" class=\"data row11 col6\" >-0.010485</td>\n",
       "                        <td id=\"T_84d28dc8_bbd6_11eb_b4a3_e38eedc2b659row11_col7\" class=\"data row11 col7\" >0.017505</td>\n",
       "                        <td id=\"T_84d28dc8_bbd6_11eb_b4a3_e38eedc2b659row11_col8\" class=\"data row11 col8\" >0.012431</td>\n",
       "                        <td id=\"T_84d28dc8_bbd6_11eb_b4a3_e38eedc2b659row11_col9\" class=\"data row11 col9\" >-0.014909</td>\n",
       "                        <td id=\"T_84d28dc8_bbd6_11eb_b4a3_e38eedc2b659row11_col10\" class=\"data row11 col10\" >0.006900</td>\n",
       "                        <td id=\"T_84d28dc8_bbd6_11eb_b4a3_e38eedc2b659row11_col11\" class=\"data row11 col11\" >1.000000</td>\n",
       "                        <td id=\"T_84d28dc8_bbd6_11eb_b4a3_e38eedc2b659row11_col12\" class=\"data row11 col12\" >0.279214</td>\n",
       "            </tr>\n",
       "            <tr>\n",
       "                        <th id=\"T_84d28dc8_bbd6_11eb_b4a3_e38eedc2b659level0_row12\" class=\"row_heading level0 row12\" >stab</th>\n",
       "                        <td id=\"T_84d28dc8_bbd6_11eb_b4a3_e38eedc2b659row12_col0\" class=\"data row12 col0\" >0.275761</td>\n",
       "                        <td id=\"T_84d28dc8_bbd6_11eb_b4a3_e38eedc2b659row12_col1\" class=\"data row12 col1\" >0.290975</td>\n",
       "                        <td id=\"T_84d28dc8_bbd6_11eb_b4a3_e38eedc2b659row12_col2\" class=\"data row12 col2\" >0.280700</td>\n",
       "                        <td id=\"T_84d28dc8_bbd6_11eb_b4a3_e38eedc2b659row12_col3\" class=\"data row12 col3\" >0.278576</td>\n",
       "                        <td id=\"T_84d28dc8_bbd6_11eb_b4a3_e38eedc2b659row12_col4\" class=\"data row12 col4\" >0.010278</td>\n",
       "                        <td id=\"T_84d28dc8_bbd6_11eb_b4a3_e38eedc2b659row12_col5\" class=\"data row12 col5\" >0.006255</td>\n",
       "                        <td id=\"T_84d28dc8_bbd6_11eb_b4a3_e38eedc2b659row12_col6\" class=\"data row12 col6\" >-0.003321</td>\n",
       "                        <td id=\"T_84d28dc8_bbd6_11eb_b4a3_e38eedc2b659row12_col7\" class=\"data row12 col7\" >-0.020786</td>\n",
       "                        <td id=\"T_84d28dc8_bbd6_11eb_b4a3_e38eedc2b659row12_col8\" class=\"data row12 col8\" >0.282774</td>\n",
       "                        <td id=\"T_84d28dc8_bbd6_11eb_b4a3_e38eedc2b659row12_col9\" class=\"data row12 col9\" >0.293601</td>\n",
       "                        <td id=\"T_84d28dc8_bbd6_11eb_b4a3_e38eedc2b659row12_col10\" class=\"data row12 col10\" >0.308235</td>\n",
       "                        <td id=\"T_84d28dc8_bbd6_11eb_b4a3_e38eedc2b659row12_col11\" class=\"data row12 col11\" >0.279214</td>\n",
       "                        <td id=\"T_84d28dc8_bbd6_11eb_b4a3_e38eedc2b659row12_col12\" class=\"data row12 col12\" >1.000000</td>\n",
       "            </tr>\n",
       "    </tbody></table>"
      ],
      "text/plain": [
       "<pandas.io.formats.style.Styler at 0x7f35305e6dc0>"
      ]
     },
     "execution_count": 8,
     "metadata": {},
     "output_type": "execute_result"
    }
   ],
   "source": [
    "corr = df.corr()\n",
    "corr.style.background_gradient(cmap='coolwarm')"
   ]
  },
  {
   "cell_type": "markdown",
   "metadata": {},
   "source": [
    "##### Данные достаточно хорошо подготовлены, параметры линейно независимы. Коэффициент корреляции больше 0,5 только у параметров p1, p2, p3, p4, но это незначительно."
   ]
  },
  {
   "cell_type": "markdown",
   "metadata": {},
   "source": [
    "#### 3. Обучить любой классификатор (какой вам нравится)"
   ]
  },
  {
   "cell_type": "markdown",
   "metadata": {},
   "source": [
    "##### Применим классификатор XGBoost"
   ]
  },
  {
   "cell_type": "code",
   "execution_count": 9,
   "metadata": {},
   "outputs": [],
   "source": [
    "x_train, x_test, y_train, y_test = train_test_split(df, target, test_size=0.2, random_state=42)"
   ]
  },
  {
   "cell_type": "code",
   "execution_count": 10,
   "metadata": {},
   "outputs": [],
   "source": [
    "model = xgb.XGBClassifier()\n",
    "\n",
    "model.fit(x_train, y_train)\n",
    "y_predict = model.predict(x_test)"
   ]
  },
  {
   "cell_type": "markdown",
   "metadata": {},
   "source": [
    "##### Посчитаем основные показатели"
   ]
  },
  {
   "cell_type": "code",
   "execution_count": 11,
   "metadata": {},
   "outputs": [],
   "source": [
    "def evaluate_results(y_test, y_predict):\n",
    "    print('Classification results:')\n",
    "    f1 = f1_score(y_test, y_predict)\n",
    "    print(\"f1: %.2f%%\" % (f1 * 100.0)) \n",
    "    roc = roc_auc_score(y_test, y_predict)\n",
    "    print(\"roc: %.2f%%\" % (roc * 100.0)) \n",
    "    rec = recall_score(y_test, y_predict, average='binary')\n",
    "    print(\"recall: %.2f%%\" % (rec * 100.0)) \n",
    "    prc = precision_score(y_test, y_predict, average='binary')\n",
    "    print(\"precision: %.2f%%\" % (prc * 100.0)) \n",
    "    return [f1, roc, rec, prc]"
   ]
  },
  {
   "cell_type": "code",
   "execution_count": 12,
   "metadata": {},
   "outputs": [
    {
     "name": "stdout",
     "output_type": "stream",
     "text": [
      "Classification results:\n",
      "f1: 99.93%\n",
      "roc: 99.96%\n",
      "recall: 100.00%\n",
      "precision: 99.86%\n"
     ]
    }
   ],
   "source": [
    "classification = evaluate_results(y_test, y_predict)"
   ]
  },
  {
   "cell_type": "markdown",
   "metadata": {},
   "source": [
    "##### Значения шикарные :D"
   ]
  },
  {
   "cell_type": "markdown",
   "metadata": {},
   "source": [
    "#### 4. Разделить ваш набор данных на два множества: P (positives) и U (unlabeled). Причем брать нужно не все положительные (класс 1) примеры, а только лишь часть"
   ]
  },
  {
   "cell_type": "code",
   "execution_count": 13,
   "metadata": {},
   "outputs": [
    {
     "name": "stdout",
     "output_type": "stream",
     "text": [
      "Using 905/3620 as positives and unlabeling the rest\n"
     ]
    }
   ],
   "source": [
    "mod_data = data.copy()\n",
    "#get the indices of the positives samples\n",
    "pos_ind = np.where(mod_data.iloc[:,-1].values == 1)[0]\n",
    "#shuffle them\n",
    "np.random.shuffle(pos_ind)\n",
    "# leave just 25% of the positives marked\n",
    "pos_sample_len = int(np.ceil(0.25 * len(pos_ind)))\n",
    "print(f'Using {pos_sample_len}/{len(pos_ind)} as positives and unlabeling the rest')\n",
    "pos_sample = pos_ind[:pos_sample_len]"
   ]
  },
  {
   "cell_type": "markdown",
   "metadata": {},
   "source": [
    "##### Теперь размеченных как класс 1 - всего 905 значений. Остальныепомечаем -1, как неразмеченные"
   ]
  },
  {
   "cell_type": "code",
   "execution_count": 14,
   "metadata": {},
   "outputs": [
    {
     "name": "stdout",
     "output_type": "stream",
     "text": [
      "target variable:\n",
      " -1    9095\n",
      " 1     905\n",
      "Name: class_test, dtype: int64\n"
     ]
    }
   ],
   "source": [
    "mod_data['class_test'] = -1\n",
    "mod_data.loc[pos_sample,'class_test'] = 1\n",
    "print('target variable:\\n', mod_data.iloc[:,-1].value_counts())"
   ]
  },
  {
   "cell_type": "code",
   "execution_count": 15,
   "metadata": {},
   "outputs": [
    {
     "data": {
      "text/html": [
       "<div>\n",
       "<style scoped>\n",
       "    .dataframe tbody tr th:only-of-type {\n",
       "        vertical-align: middle;\n",
       "    }\n",
       "\n",
       "    .dataframe tbody tr th {\n",
       "        vertical-align: top;\n",
       "    }\n",
       "\n",
       "    .dataframe thead th {\n",
       "        text-align: right;\n",
       "    }\n",
       "</style>\n",
       "<table border=\"1\" class=\"dataframe\">\n",
       "  <thead>\n",
       "    <tr style=\"text-align: right;\">\n",
       "      <th></th>\n",
       "      <th>tau1</th>\n",
       "      <th>tau2</th>\n",
       "      <th>tau3</th>\n",
       "      <th>tau4</th>\n",
       "      <th>p1</th>\n",
       "      <th>p2</th>\n",
       "      <th>p3</th>\n",
       "      <th>p4</th>\n",
       "      <th>g1</th>\n",
       "      <th>g2</th>\n",
       "      <th>g3</th>\n",
       "      <th>g4</th>\n",
       "      <th>stab</th>\n",
       "      <th>stabf</th>\n",
       "      <th>class_test</th>\n",
       "    </tr>\n",
       "  </thead>\n",
       "  <tbody>\n",
       "    <tr>\n",
       "      <th>0</th>\n",
       "      <td>2.959060</td>\n",
       "      <td>3.079885</td>\n",
       "      <td>8.381025</td>\n",
       "      <td>9.780754</td>\n",
       "      <td>3.763085</td>\n",
       "      <td>-0.782604</td>\n",
       "      <td>-1.257395</td>\n",
       "      <td>-1.723086</td>\n",
       "      <td>0.650456</td>\n",
       "      <td>0.859578</td>\n",
       "      <td>0.887445</td>\n",
       "      <td>0.958034</td>\n",
       "      <td>0.055347</td>\n",
       "      <td>0</td>\n",
       "      <td>-1</td>\n",
       "    </tr>\n",
       "    <tr>\n",
       "      <th>1</th>\n",
       "      <td>9.304097</td>\n",
       "      <td>4.902524</td>\n",
       "      <td>3.047541</td>\n",
       "      <td>1.369357</td>\n",
       "      <td>5.067812</td>\n",
       "      <td>-1.940058</td>\n",
       "      <td>-1.872742</td>\n",
       "      <td>-1.255012</td>\n",
       "      <td>0.413441</td>\n",
       "      <td>0.862414</td>\n",
       "      <td>0.562139</td>\n",
       "      <td>0.781760</td>\n",
       "      <td>-0.005957</td>\n",
       "      <td>1</td>\n",
       "      <td>-1</td>\n",
       "    </tr>\n",
       "  </tbody>\n",
       "</table>\n",
       "</div>"
      ],
      "text/plain": [
       "       tau1      tau2      tau3      tau4        p1        p2        p3  \\\n",
       "0  2.959060  3.079885  8.381025  9.780754  3.763085 -0.782604 -1.257395   \n",
       "1  9.304097  4.902524  3.047541  1.369357  5.067812 -1.940058 -1.872742   \n",
       "\n",
       "         p4        g1        g2        g3        g4      stab  stabf  \\\n",
       "0 -1.723086  0.650456  0.859578  0.887445  0.958034  0.055347      0   \n",
       "1 -1.255012  0.413441  0.862414  0.562139  0.781760 -0.005957      1   \n",
       "\n",
       "   class_test  \n",
       "0          -1  \n",
       "1          -1  "
      ]
     },
     "execution_count": 15,
     "metadata": {},
     "output_type": "execute_result"
    }
   ],
   "source": [
    "mod_data.head(2)"
   ]
  },
  {
   "cell_type": "code",
   "execution_count": 16,
   "metadata": {},
   "outputs": [],
   "source": [
    "x_data = mod_data.iloc[:,:-2].values # just the X \n",
    "y_labeled = mod_data.iloc[:,-1].values # new class (just the P & U)\n",
    "y_positive = mod_data.iloc[:,-2].values # original class"
   ]
  },
  {
   "cell_type": "markdown",
   "metadata": {},
   "source": [
    "#### 5. Применить random negative sampling для построения классификатора в новых условиях"
   ]
  },
  {
   "cell_type": "code",
   "execution_count": 17,
   "metadata": {},
   "outputs": [
    {
     "name": "stdout",
     "output_type": "stream",
     "text": [
      "(905, 15) (905, 15)\n"
     ]
    }
   ],
   "source": [
    "mod_data = mod_data.sample(frac=1)\n",
    "neg_sample = mod_data[mod_data['class_test']==-1][:len(mod_data[mod_data['class_test']==1])]\n",
    "sample_test = mod_data[mod_data['class_test']==-1][len(mod_data[mod_data['class_test']==1]):]\n",
    "pos_sample = mod_data[mod_data['class_test']==1]\n",
    "print(neg_sample.shape, pos_sample.shape)\n",
    "sample_train = pd.concat([neg_sample, pos_sample]).sample(frac=1)"
   ]
  },
  {
   "cell_type": "markdown",
   "metadata": {},
   "source": [
    "##### Обучим модель"
   ]
  },
  {
   "cell_type": "code",
   "execution_count": 18,
   "metadata": {},
   "outputs": [],
   "source": [
    "model = xgb.XGBClassifier()\n",
    "\n",
    "model.fit(sample_train.iloc[:,:-2].values, \n",
    "          sample_train.iloc[:,-2].values)\n",
    "y_predict = model.predict(sample_test.iloc[:,:-2].values)"
   ]
  },
  {
   "cell_type": "code",
   "execution_count": 19,
   "metadata": {},
   "outputs": [
    {
     "name": "stdout",
     "output_type": "stream",
     "text": [
      "Classification results:\n",
      "f1: 99.98%\n",
      "roc: 99.99%\n",
      "recall: 100.00%\n",
      "precision: 99.96%\n"
     ]
    }
   ],
   "source": [
    "pu_20 = evaluate_results(sample_test.iloc[:,-2].values, y_predict)"
   ]
  },
  {
   "cell_type": "markdown",
   "metadata": {},
   "source": [
    "##### Результаты тоже впечатляющие :D Попахивает переобучением, либо сущесствует четкая зависимость результата от измерений (что более вероятно для физических опытов)"
   ]
  },
  {
   "cell_type": "markdown",
   "metadata": {},
   "source": [
    "#### 6. Сравнить качество с решением из пункта 4 (построить отчет - таблицу метрик)"
   ]
  },
  {
   "cell_type": "code",
   "execution_count": 20,
   "metadata": {},
   "outputs": [],
   "source": [
    "result = [classification, pu_20]\n",
    "index = ['Classification', 'PU 20%']\n",
    "\n",
    "metrics = pd.DataFrame(result, index=index, columns=['F-score', 'Roc_auc', 'Recall', 'Precision'])"
   ]
  },
  {
   "cell_type": "code",
   "execution_count": 21,
   "metadata": {},
   "outputs": [
    {
     "data": {
      "text/html": [
       "<div>\n",
       "<style scoped>\n",
       "    .dataframe tbody tr th:only-of-type {\n",
       "        vertical-align: middle;\n",
       "    }\n",
       "\n",
       "    .dataframe tbody tr th {\n",
       "        vertical-align: top;\n",
       "    }\n",
       "\n",
       "    .dataframe thead th {\n",
       "        text-align: right;\n",
       "    }\n",
       "</style>\n",
       "<table border=\"1\" class=\"dataframe\">\n",
       "  <thead>\n",
       "    <tr style=\"text-align: right;\">\n",
       "      <th></th>\n",
       "      <th>F-score</th>\n",
       "      <th>Roc_auc</th>\n",
       "      <th>Recall</th>\n",
       "      <th>Precision</th>\n",
       "    </tr>\n",
       "  </thead>\n",
       "  <tbody>\n",
       "    <tr>\n",
       "      <th>Classification</th>\n",
       "      <td>0.999279</td>\n",
       "      <td>0.999617</td>\n",
       "      <td>1.0</td>\n",
       "      <td>0.998559</td>\n",
       "    </tr>\n",
       "    <tr>\n",
       "      <th>PU 20%</th>\n",
       "      <td>0.999796</td>\n",
       "      <td>0.999913</td>\n",
       "      <td>1.0</td>\n",
       "      <td>0.999593</td>\n",
       "    </tr>\n",
       "  </tbody>\n",
       "</table>\n",
       "</div>"
      ],
      "text/plain": [
       "                 F-score   Roc_auc  Recall  Precision\n",
       "Classification  0.999279  0.999617     1.0   0.998559\n",
       "PU 20%          0.999796  0.999913     1.0   0.999593"
      ]
     },
     "execution_count": 21,
     "metadata": {},
     "output_type": "execute_result"
    }
   ],
   "source": [
    "metrics"
   ]
  },
  {
   "cell_type": "markdown",
   "metadata": {},
   "source": [
    "#### 7. Поэкспериментировать с долей P на шаге 5 (как будет меняться качество модели при уменьшении/увеличении размера P)"
   ]
  },
  {
   "cell_type": "markdown",
   "metadata": {},
   "source": [
    "##### Возьмем не 25, а 30 % для P"
   ]
  },
  {
   "cell_type": "code",
   "execution_count": 22,
   "metadata": {},
   "outputs": [
    {
     "name": "stdout",
     "output_type": "stream",
     "text": [
      "Using 1086/3620 as positives and unlabeling the rest\n"
     ]
    }
   ],
   "source": [
    "mod_data = data.copy()\n",
    "#get the indices of the positives samples\n",
    "pos_ind = np.where(mod_data.iloc[:,-1].values == 1)[0]\n",
    "#shuffle them\n",
    "np.random.shuffle(pos_ind)\n",
    "# leave just 30% of the positives marked\n",
    "pos_sample_len = int(np.ceil(0.3 * len(pos_ind)))\n",
    "print(f'Using {pos_sample_len}/{len(pos_ind)} as positives and unlabeling the rest')\n",
    "pos_sample = pos_ind[:pos_sample_len]"
   ]
  },
  {
   "cell_type": "markdown",
   "metadata": {},
   "source": [
    "##### Теперь размеченных как класс 1 - всего 905 значений. Остальныепомечаем -1, как неразмеченные"
   ]
  },
  {
   "cell_type": "code",
   "execution_count": 23,
   "metadata": {},
   "outputs": [
    {
     "name": "stdout",
     "output_type": "stream",
     "text": [
      "target variable:\n",
      " -1    8914\n",
      " 1    1086\n",
      "Name: class_test, dtype: int64\n"
     ]
    }
   ],
   "source": [
    "mod_data['class_test'] = -1\n",
    "mod_data.loc[pos_sample,'class_test'] = 1\n",
    "print('target variable:\\n', mod_data.iloc[:,-1].value_counts())"
   ]
  },
  {
   "cell_type": "code",
   "execution_count": 24,
   "metadata": {},
   "outputs": [
    {
     "data": {
      "text/html": [
       "<div>\n",
       "<style scoped>\n",
       "    .dataframe tbody tr th:only-of-type {\n",
       "        vertical-align: middle;\n",
       "    }\n",
       "\n",
       "    .dataframe tbody tr th {\n",
       "        vertical-align: top;\n",
       "    }\n",
       "\n",
       "    .dataframe thead th {\n",
       "        text-align: right;\n",
       "    }\n",
       "</style>\n",
       "<table border=\"1\" class=\"dataframe\">\n",
       "  <thead>\n",
       "    <tr style=\"text-align: right;\">\n",
       "      <th></th>\n",
       "      <th>tau1</th>\n",
       "      <th>tau2</th>\n",
       "      <th>tau3</th>\n",
       "      <th>tau4</th>\n",
       "      <th>p1</th>\n",
       "      <th>p2</th>\n",
       "      <th>p3</th>\n",
       "      <th>p4</th>\n",
       "      <th>g1</th>\n",
       "      <th>g2</th>\n",
       "      <th>g3</th>\n",
       "      <th>g4</th>\n",
       "      <th>stab</th>\n",
       "      <th>stabf</th>\n",
       "      <th>class_test</th>\n",
       "    </tr>\n",
       "  </thead>\n",
       "  <tbody>\n",
       "    <tr>\n",
       "      <th>0</th>\n",
       "      <td>2.959060</td>\n",
       "      <td>3.079885</td>\n",
       "      <td>8.381025</td>\n",
       "      <td>9.780754</td>\n",
       "      <td>3.763085</td>\n",
       "      <td>-0.782604</td>\n",
       "      <td>-1.257395</td>\n",
       "      <td>-1.723086</td>\n",
       "      <td>0.650456</td>\n",
       "      <td>0.859578</td>\n",
       "      <td>0.887445</td>\n",
       "      <td>0.958034</td>\n",
       "      <td>0.055347</td>\n",
       "      <td>0</td>\n",
       "      <td>-1</td>\n",
       "    </tr>\n",
       "    <tr>\n",
       "      <th>1</th>\n",
       "      <td>9.304097</td>\n",
       "      <td>4.902524</td>\n",
       "      <td>3.047541</td>\n",
       "      <td>1.369357</td>\n",
       "      <td>5.067812</td>\n",
       "      <td>-1.940058</td>\n",
       "      <td>-1.872742</td>\n",
       "      <td>-1.255012</td>\n",
       "      <td>0.413441</td>\n",
       "      <td>0.862414</td>\n",
       "      <td>0.562139</td>\n",
       "      <td>0.781760</td>\n",
       "      <td>-0.005957</td>\n",
       "      <td>1</td>\n",
       "      <td>1</td>\n",
       "    </tr>\n",
       "  </tbody>\n",
       "</table>\n",
       "</div>"
      ],
      "text/plain": [
       "       tau1      tau2      tau3      tau4        p1        p2        p3  \\\n",
       "0  2.959060  3.079885  8.381025  9.780754  3.763085 -0.782604 -1.257395   \n",
       "1  9.304097  4.902524  3.047541  1.369357  5.067812 -1.940058 -1.872742   \n",
       "\n",
       "         p4        g1        g2        g3        g4      stab  stabf  \\\n",
       "0 -1.723086  0.650456  0.859578  0.887445  0.958034  0.055347      0   \n",
       "1 -1.255012  0.413441  0.862414  0.562139  0.781760 -0.005957      1   \n",
       "\n",
       "   class_test  \n",
       "0          -1  \n",
       "1           1  "
      ]
     },
     "execution_count": 24,
     "metadata": {},
     "output_type": "execute_result"
    }
   ],
   "source": [
    "mod_data.head(2)"
   ]
  },
  {
   "cell_type": "code",
   "execution_count": 25,
   "metadata": {},
   "outputs": [],
   "source": [
    "x_data = mod_data.iloc[:,:-2].values # just the X \n",
    "y_labeled = mod_data.iloc[:,-1].values # new class (just the P & U)\n",
    "y_positive = mod_data.iloc[:,-2].values # original class"
   ]
  },
  {
   "cell_type": "code",
   "execution_count": 26,
   "metadata": {},
   "outputs": [
    {
     "name": "stdout",
     "output_type": "stream",
     "text": [
      "(1086, 15) (1086, 15)\n"
     ]
    }
   ],
   "source": [
    "mod_data = mod_data.sample(frac=1)\n",
    "neg_sample = mod_data[mod_data['class_test']==-1][:len(mod_data[mod_data['class_test']==1])]\n",
    "sample_test = mod_data[mod_data['class_test']==-1][len(mod_data[mod_data['class_test']==1]):]\n",
    "pos_sample = mod_data[mod_data['class_test']==1]\n",
    "print(neg_sample.shape, pos_sample.shape)\n",
    "sample_train = pd.concat([neg_sample, pos_sample]).sample(frac=1)"
   ]
  },
  {
   "cell_type": "markdown",
   "metadata": {},
   "source": [
    "##### Обучим модель"
   ]
  },
  {
   "cell_type": "code",
   "execution_count": 27,
   "metadata": {},
   "outputs": [],
   "source": [
    "model = xgb.XGBClassifier()\n",
    "\n",
    "model.fit(sample_train.iloc[:,:-2].values, \n",
    "          sample_train.iloc[:,-2].values)\n",
    "y_predict = model.predict(sample_test.iloc[:,:-2].values)"
   ]
  },
  {
   "cell_type": "code",
   "execution_count": 28,
   "metadata": {},
   "outputs": [
    {
     "name": "stdout",
     "output_type": "stream",
     "text": [
      "Classification results:\n",
      "f1: 99.96%\n",
      "roc: 99.96%\n",
      "recall: 99.91%\n",
      "precision: 100.00%\n"
     ]
    }
   ],
   "source": [
    "pu_30 = evaluate_results(sample_test.iloc[:,-2].values, y_predict)"
   ]
  },
  {
   "cell_type": "code",
   "execution_count": 29,
   "metadata": {},
   "outputs": [],
   "source": [
    "result = [classification, pu_20, pu_30]\n",
    "index = ['Classification', 'PU 20%', 'PU 30%']\n",
    "\n",
    "metrics = pd.DataFrame(result, index=index, columns=['F-score', 'Roc_auc', 'Recall', 'Precision'])"
   ]
  },
  {
   "cell_type": "code",
   "execution_count": 30,
   "metadata": {},
   "outputs": [
    {
     "data": {
      "text/html": [
       "<div>\n",
       "<style scoped>\n",
       "    .dataframe tbody tr th:only-of-type {\n",
       "        vertical-align: middle;\n",
       "    }\n",
       "\n",
       "    .dataframe tbody tr th {\n",
       "        vertical-align: top;\n",
       "    }\n",
       "\n",
       "    .dataframe thead th {\n",
       "        text-align: right;\n",
       "    }\n",
       "</style>\n",
       "<table border=\"1\" class=\"dataframe\">\n",
       "  <thead>\n",
       "    <tr style=\"text-align: right;\">\n",
       "      <th></th>\n",
       "      <th>F-score</th>\n",
       "      <th>Roc_auc</th>\n",
       "      <th>Recall</th>\n",
       "      <th>Precision</th>\n",
       "    </tr>\n",
       "  </thead>\n",
       "  <tbody>\n",
       "    <tr>\n",
       "      <th>Classification</th>\n",
       "      <td>0.999279</td>\n",
       "      <td>0.999617</td>\n",
       "      <td>1.000000</td>\n",
       "      <td>0.998559</td>\n",
       "    </tr>\n",
       "    <tr>\n",
       "      <th>PU 20%</th>\n",
       "      <td>0.999796</td>\n",
       "      <td>0.999913</td>\n",
       "      <td>1.000000</td>\n",
       "      <td>0.999593</td>\n",
       "    </tr>\n",
       "    <tr>\n",
       "      <th>PU 30%</th>\n",
       "      <td>0.999553</td>\n",
       "      <td>0.999553</td>\n",
       "      <td>0.999106</td>\n",
       "      <td>1.000000</td>\n",
       "    </tr>\n",
       "  </tbody>\n",
       "</table>\n",
       "</div>"
      ],
      "text/plain": [
       "                 F-score   Roc_auc    Recall  Precision\n",
       "Classification  0.999279  0.999617  1.000000   0.998559\n",
       "PU 20%          0.999796  0.999913  1.000000   0.999593\n",
       "PU 30%          0.999553  0.999553  0.999106   1.000000"
      ]
     },
     "execution_count": 30,
     "metadata": {},
     "output_type": "execute_result"
    }
   ],
   "source": [
    "metrics"
   ]
  },
  {
   "cell_type": "markdown",
   "metadata": {},
   "source": [
    "#### С увеличением размера выборки P метрики f1 и roc_auc падают."
   ]
  }
 ],
 "metadata": {
  "kernelspec": {
   "display_name": "Python 3",
   "language": "python",
   "name": "python3"
  },
  "language_info": {
   "codemirror_mode": {
    "name": "ipython",
    "version": 3
   },
   "file_extension": ".py",
   "mimetype": "text/x-python",
   "name": "python",
   "nbconvert_exporter": "python",
   "pygments_lexer": "ipython3",
   "version": "3.8.5"
  }
 },
 "nbformat": 4,
 "nbformat_minor": 4
}
